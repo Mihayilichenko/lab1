{
 "cells": [
  {
   "cell_type": "code",
   "execution_count": 7,
   "id": "d1be6093",
   "metadata": {},
   "outputs": [
    {
     "name": "stdout",
     "output_type": "stream",
     "text": [
      "Введите размер матрицы (NxN): 7\n",
      " -0.026   0.745   1.718   0.057  -0.574   2.741   2.011 \n",
      " -1.140   2.946   1.504  -1.475   1.782   0.052   1.082 \n",
      "  2.064   2.851  -0.958   0.587  -1.955  -0.966  -1.420 \n",
      "  0.430  -1.666  -0.640  -1.648  -1.845  -0.507  -0.556 \n",
      " -1.337  -1.553  -0.166   0.384   1.346   0.231  -0.430 \n",
      " -0.713   2.021   0.120   1.347   1.238   1.718  -0.162 \n",
      "  3.079  -0.087   1.077   1.619   3.075   1.006   0.422 \n",
      "\n",
      "Сумма:   15.19165032499176\n"
     ]
    }
   ],
   "source": [
    "#Соседями элемента Aij в матрице назовем элементы Аkl, где i-1≤k≤i+1, j-1≤l≤j+1, (k, l)≠(i,j).\n",
    "#Операция сглаживания матрицы дает новую матрицу того же размера, каждый элемент которой\n",
    "#получается как среднее арифметическое имеющихся соседей соответствующего элемента\n",
    "#исходной матрицы. Построить результат сглаживания заданной вещественной матрицы\n",
    "#размером 7×7. В сглаженной матрице найти сумму модулей элементов, расположенных ниже\n",
    "#главной диагонали.\n",
    "\n",
    "from math import *\n",
    "from random import *\n",
    "import numpy as np\n",
    "\n",
    "\n",
    "def MakeMatr(n, a, b):\n",
    "    Matr = (b-a)*np.random.random(size=(n,n)) + a\n",
    "    return Matr\n",
    "\n",
    "\n",
    "def CorrectMatr(Matr):\n",
    "    (nRow, nCol) = Matr.shape\n",
    "    for Row in range(nRow+1):\n",
    "        for Col in range(nCol+1):\n",
    "            if Row == 0:\n",
    "                if Col == 0:\n",
    "                    Matr[Row][Col] = (Matr[Row][Col+1]+Matr[Row+1][Col])/2\n",
    "            if Row == 0:\n",
    "                if Col > 0 and Col < (nCol-1):\n",
    "                    Matr[Row][Col] = (Matr[Row][Col+1]+Matr[Row][Col-1]+Matr[Row+1][Col])/3\n",
    "            if Row == 0:\n",
    "                if Col == (nCol-1):\n",
    "                    Matr[Row][Col] = (Matr[Row][Col-1]+Matr[Row+1][Col])/2\n",
    "            if Row > 0 and Row < (nRow-1):\n",
    "                if Col == 0:\n",
    "                    Matr[Row][Col] = (Matr[Row][Col+1]+Matr[Row-1][Col]+Matr[Row+1][Col])/3\n",
    "            if Row > 0 and Row < (nRow-1):\n",
    "                if Col > 0 and Col < (nCol-1):\n",
    "                    Matr[Row][Col] = (Matr[Row][Col+1]+Matr[Row][Col-1]+Matr[Row+1][Col]+Matr[Row-1][Col])/4\n",
    "            if Row > 0 and Row < (nRow-1):\n",
    "                if Col == (nCol-1):\n",
    "                    Matr[Row][Col] = (Matr[Row][Col-1]+Matr[Row-1][Col]+Matr[Row+1][Col])/3\n",
    "            if Row == (nRow-1):\n",
    "                if Col == 0:\n",
    "                    Matr[Row][Col] = (Matr[Row][Col+1]+Matr[Row-1][Col])/2\n",
    "            if Row == (nRow-1):\n",
    "                if Col > 0 and Col < (nCol-1):\n",
    "                    Matr[Row][Col] = (Matr[Row][Col+1]+Matr[Row][Col-1]+Matr[Row-1][Col])/3\n",
    "            if Row == (nRow-1):\n",
    "                if Col == (nCol-1):\n",
    "                    Matr[Row][Col] = (Matr[Row][Col-1]+Matr[Row-1][Col])/2\n",
    "                    \n",
    "    return Matr\n",
    "\n",
    "\n",
    "def PrintMatr(Matr):\n",
    "    (nRow, nCol) = Matr.shape\n",
    "    for Row in range(nRow):\n",
    "        for Col in range(nCol):\n",
    "            print(\"{0: 7.3f}\".format(Matr[Row][Col]), end=\" \")\n",
    "        print()\n",
    "    print()\n",
    "    totalSum = sum([Matr[Row][Col] for i in range(1,len(Matr)) for j in range(Row)])\n",
    "    print(\"Сумма:  \", totalSum)\n",
    "    \n",
    "\n",
    "n = int(input(\"Введите размер матрицы (NxN): \"))\n",
    "MyMatr=MakeMatr(n, -7, 7)\n",
    "NMatr = CorrectMatr(MyMatr)\n",
    "PrintMatr(NMatr)\n"
   ]
  },
  {
   "cell_type": "code",
   "execution_count": null,
   "id": "69ed2d67",
   "metadata": {},
   "outputs": [],
   "source": []
  },
  {
   "cell_type": "code",
   "execution_count": null,
   "id": "fc65c317",
   "metadata": {},
   "outputs": [],
   "source": []
  }
 ],
 "metadata": {
  "kernelspec": {
   "display_name": "Python 3 (ipykernel)",
   "language": "python",
   "name": "python3"
  },
  "language_info": {
   "codemirror_mode": {
    "name": "ipython",
    "version": 3
   },
   "file_extension": ".py",
   "mimetype": "text/x-python",
   "name": "python",
   "nbconvert_exporter": "python",
   "pygments_lexer": "ipython3",
   "version": "3.9.7"
  }
 },
 "nbformat": 4,
 "nbformat_minor": 5
}
